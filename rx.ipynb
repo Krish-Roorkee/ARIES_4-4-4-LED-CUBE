{
  "cells": [
    {
      "cell_type": "markdown",
      "metadata": {
        "id": "view-in-github",
        "colab_type": "text"
      },
      "source": [
        "<a href=\"https://colab.research.google.com/github/Krish-Roorkee/ARIES_4-4-4-LED-CUBE/blob/main/rx.ipynb\" target=\"_parent\"><img src=\"https://colab.research.google.com/assets/colab-badge.svg\" alt=\"Open In Colab\"/></a>"
      ]
    },
    {
      "cell_type": "code",
      "execution_count": 2,
      "metadata": {
        "id": "iIC_MXF7VyvP"
      },
      "outputs": [],
      "source": [
        "import numpy as np\n",
        "from scipy.optimize import minimize"
      ]
    },
    {
      "cell_type": "code",
      "source": [
        "pip install pyswarms"
      ],
      "metadata": {
        "colab": {
          "base_uri": "https://localhost:8080/"
        },
        "id": "zLNQTT9j7wnt",
        "outputId": "4b0100f3-639d-42a8-bb71-0c447b75f953"
      },
      "execution_count": 3,
      "outputs": [
        {
          "output_type": "stream",
          "name": "stdout",
          "text": [
            "Collecting pyswarms\n",
            "  Downloading pyswarms-1.3.0-py2.py3-none-any.whl (104 kB)\n",
            "\u001b[?25l     \u001b[90m━━━━━━━━━━━━━━━━━━━━━━━━━━━━━━━━━━━━━━━━\u001b[0m \u001b[32m0.0/104.1 kB\u001b[0m \u001b[31m?\u001b[0m eta \u001b[36m-:--:--\u001b[0m\r\u001b[2K     \u001b[90m━━━━━━━━━━━━━━━━━━━━━━━━━━━━━━━━━━━━━━━━\u001b[0m \u001b[32m104.1/104.1 kB\u001b[0m \u001b[31m3.4 MB/s\u001b[0m eta \u001b[36m0:00:00\u001b[0m\n",
            "\u001b[?25hRequirement already satisfied: scipy in /usr/local/lib/python3.10/dist-packages (from pyswarms) (1.11.3)\n",
            "Requirement already satisfied: numpy in /usr/local/lib/python3.10/dist-packages (from pyswarms) (1.23.5)\n",
            "Requirement already satisfied: matplotlib>=1.3.1 in /usr/local/lib/python3.10/dist-packages (from pyswarms) (3.7.1)\n",
            "Requirement already satisfied: attrs in /usr/local/lib/python3.10/dist-packages (from pyswarms) (23.1.0)\n",
            "Requirement already satisfied: tqdm in /usr/local/lib/python3.10/dist-packages (from pyswarms) (4.66.1)\n",
            "Requirement already satisfied: future in /usr/local/lib/python3.10/dist-packages (from pyswarms) (0.18.3)\n",
            "Requirement already satisfied: pyyaml in /usr/local/lib/python3.10/dist-packages (from pyswarms) (6.0.1)\n",
            "Requirement already satisfied: contourpy>=1.0.1 in /usr/local/lib/python3.10/dist-packages (from matplotlib>=1.3.1->pyswarms) (1.2.0)\n",
            "Requirement already satisfied: cycler>=0.10 in /usr/local/lib/python3.10/dist-packages (from matplotlib>=1.3.1->pyswarms) (0.12.1)\n",
            "Requirement already satisfied: fonttools>=4.22.0 in /usr/local/lib/python3.10/dist-packages (from matplotlib>=1.3.1->pyswarms) (4.44.3)\n",
            "Requirement already satisfied: kiwisolver>=1.0.1 in /usr/local/lib/python3.10/dist-packages (from matplotlib>=1.3.1->pyswarms) (1.4.5)\n",
            "Requirement already satisfied: packaging>=20.0 in /usr/local/lib/python3.10/dist-packages (from matplotlib>=1.3.1->pyswarms) (23.2)\n",
            "Requirement already satisfied: pillow>=6.2.0 in /usr/local/lib/python3.10/dist-packages (from matplotlib>=1.3.1->pyswarms) (9.4.0)\n",
            "Requirement already satisfied: pyparsing>=2.3.1 in /usr/local/lib/python3.10/dist-packages (from matplotlib>=1.3.1->pyswarms) (3.1.1)\n",
            "Requirement already satisfied: python-dateutil>=2.7 in /usr/local/lib/python3.10/dist-packages (from matplotlib>=1.3.1->pyswarms) (2.8.2)\n",
            "Requirement already satisfied: six>=1.5 in /usr/local/lib/python3.10/dist-packages (from python-dateutil>=2.7->matplotlib>=1.3.1->pyswarms) (1.16.0)\n",
            "Installing collected packages: pyswarms\n",
            "Successfully installed pyswarms-1.3.0\n"
          ]
        }
      ]
    },
    {
      "cell_type": "code",
      "source": [],
      "metadata": {
        "id": "vlnk99DWMFGI"
      },
      "execution_count": 3,
      "outputs": []
    },
    {
      "cell_type": "code",
      "execution_count": 4,
      "metadata": {
        "id": "feXjVYR_TsNk"
      },
      "outputs": [],
      "source": [
        "import pyswarms as ps"
      ]
    },
    {
      "cell_type": "code",
      "execution_count": 5,
      "metadata": {
        "id": "EhGkWazXV1NC"
      },
      "outputs": [],
      "source": [
        "n_truck = 3;\n",
        "n_nodes = 3;\n",
        "W = np.array([n_truck, n_nodes, 3,10],dtype=np.int32);\n"
      ]
    },
    {
      "cell_type": "code",
      "source": [
        "def obj(W, initPos, distMat, reqLoads):\n",
        " C_l = 1;\n",
        " C_d = 1/100;\n",
        " speed = 40;\n",
        " cost = 0;\n",
        " load_status = np.zeros((n_nodes, 12));\n",
        " for t in range(n_truck):\n",
        "  distanceTravelled = 0;\n",
        "  time = 0;\n",
        "  current_P = initPos[t];\n",
        " for p in W[t]:\n",
        "  time += p[0];\n",
        "  load_status[int(current_P)%n_nodes][int(time)%12] += np.floor(p[1]);\n",
        "  distanceTravelled += distMat[int(current_P)%n_nodes][int(p[2])%n_nodes];\n",
        "  time += distMat[int(current_P)%n_nodes][int(p[2])%n_nodes]/speed;\n",
        "  current_P = p[2];\n",
        "  cost += distanceTravelled * C_d;\n",
        " for i in range(n_nodes):\n",
        "  for h in range(12):\n",
        "   cost += C_l*(np.square((reqLoads[i][h] - load_status[i][h])));\n",
        " return cost;"
      ],
      "metadata": {
        "id": "WwrGdEyygw-N"
      },
      "execution_count": 6,
      "outputs": []
    },
    {
      "cell_type": "code",
      "source": [
        "distMat = [[0, 100, 200],\n",
        "           [100, 0, 240],\n",
        "           [200, 240, 0]];\n",
        "initPos = [0, 1, 2];\n",
        "reqLoads = [[0, 0, 0, 0, 5, 0, 0, 0, 0, 0, 0, 0],\n",
        "            [0, -10, 0, 0, 0, 0, 0, 0, 0, 0, 0, 0],\n",
        "            [0, 0, 0, 0, 0, 0, 5, 0, 0, 0, 0, 0]];"
      ],
      "metadata": {
        "id": "V_jynrNj7mpq"
      },
      "execution_count": 7,
      "outputs": []
    },
    {
      "cell_type": "code",
      "source": [
        "def g(w):\n",
        "  W = np.zeros((n_truck, n_nodes, 3));\n",
        "  for i in range(n_truck*n_nodes*3):\n",
        "    x = i%n_truck;\n",
        "    y = (i%n_truck)%n_nodes;\n",
        "    z = ((i%n_truck)%n_nodes)%3;\n",
        "    W[x][y][z] = w[i];\n",
        "  return obj(W, initPos, distMat, reqLoads);"
      ],
      "metadata": {
        "id": "zRzJuhcF9dlr"
      },
      "execution_count": 8,
      "outputs": []
    },
    {
      "cell_type": "code",
      "source": [
        "import scipy as sp;"
      ],
      "metadata": {
        "id": "JQQK-KMS9mi0"
      },
      "execution_count": 9,
      "outputs": []
    },
    {
      "cell_type": "code",
      "source": [
        "options = {'c1': 0.5, 'c2': 0.3, 'w':0.9}\n",
        "\n",
        "optimizer = ps.single.GlobalBestPSO(n_particles=1000, dimensions=27, options=options)\n",
        "def f(wp):\n",
        "  wp = np.abs(wp)*100;\n",
        "  return np.array([g(w) for w in wp]);\n",
        "\n",
        "cost, pos = optimizer.optimize(f, iters=1000)"
      ],
      "metadata": {
        "colab": {
          "base_uri": "https://localhost:8080/"
        },
        "id": "WuGy6MK_-d78",
        "outputId": "85521c95-e3db-4c88-9978-b98919fcdcd6"
      },
      "execution_count": 11,
      "outputs": [
        {
          "output_type": "stream",
          "name": "stderr",
          "text": [
            "2023-11-27 16:33:02,160 - pyswarms.single.global_best - INFO - Optimize for 1000 iters with {'c1': 0.5, 'c2': 0.3, 'w': 0.9}\n",
            "pyswarms.single.global_best: 100%|██████████|1000/1000, best_cost=156\n",
            "2023-11-27 16:34:58,599 - pyswarms.single.global_best - INFO - Optimization finished | best cost: 156.0, best pos: [0.40732487 1.50506435 1.22854818 0.38279736 1.18014433 0.61680146\n",
            " 0.33248551 0.65256746 1.31991025 1.22639047 1.12161092 0.87333287\n",
            " 1.35389897 0.5311303  0.22566751 1.02117807 0.37562938 1.22279283\n",
            " 0.81822278 1.4678397  0.68399794 1.14311056 1.24030292 0.63573494\n",
            " 1.37461936 0.76609878 0.93538988]\n"
          ]
        }
      ]
    },
    {
      "cell_type": "code",
      "source": [
        "initPos = np.random.randint(0, n_nodes, size=(n_truck,))"
      ],
      "metadata": {
        "id": "9fBoXhp0_iL5"
      },
      "execution_count": 17,
      "outputs": []
    },
    {
      "cell_type": "code",
      "source": [
        "!pip install pyswarm\n"
      ],
      "metadata": {
        "id": "q2LUUOLirknW",
        "outputId": "ecea5d80-30da-43f1-c6b1-79a014424669",
        "colab": {
          "base_uri": "https://localhost:8080/"
        }
      },
      "execution_count": 18,
      "outputs": [
        {
          "output_type": "stream",
          "name": "stdout",
          "text": [
            "Collecting pyswarm\n",
            "  Downloading pyswarm-0.6.tar.gz (4.3 kB)\n",
            "  Preparing metadata (setup.py) ... \u001b[?25l\u001b[?25hdone\n",
            "Requirement already satisfied: numpy in /usr/local/lib/python3.10/dist-packages (from pyswarm) (1.23.5)\n",
            "Building wheels for collected packages: pyswarm\n",
            "  Building wheel for pyswarm (setup.py) ... \u001b[?25l\u001b[?25hdone\n",
            "  Created wheel for pyswarm: filename=pyswarm-0.6-py3-none-any.whl size=4463 sha256=51f7fcef23e74dcc8ef187b3ec85c24fd4e7bcd1a8b4cd994923fe0e70bbaf92\n",
            "  Stored in directory: /root/.cache/pip/wheels/71/67/40/62fa158f497f942277cbab8199b05cb61c571ab324e67ad0d6\n",
            "Successfully built pyswarm\n",
            "Installing collected packages: pyswarm\n",
            "Successfully installed pyswarm-0.6\n"
          ]
        }
      ]
    },
    {
      "cell_type": "code",
      "source": [
        "from pyswarm import pso\n",
        "initPos = np.random.randint(0, n_nodes, size=(n_truck,))\n",
        "def objective_function(position):\n",
        "    W = np.reshape(position, (n_truck, -1, 3))\n",
        "    cost = obj(W, initPos, distMat, reqLoads)\n",
        "    return cost\n",
        "lb = np.zeros(n_truck * len(initPos) * 3)\n",
        "ub = np.ones(n_truck * len(initPos) * 3)\n",
        "best_position, min_cost = pso(objective_function, lb, ub)\n",
        "optimal_path = np.reshape(best_position, (n_truck, -1, 3))\n",
        "print(\"Optimal Path:\")\n",
        "print(optimal_path)\n",
        "print(\"Minimum Cost:\", min_cost)\n",
        "\n",
        "\n"
      ],
      "metadata": {
        "id": "Vzp64w_Joxjj",
        "outputId": "d8ec32b6-9b48-4d0d-f882-5c6a50fdda6c",
        "colab": {
          "base_uri": "https://localhost:8080/"
        }
      },
      "execution_count": 24,
      "outputs": [
        {
          "output_type": "stream",
          "name": "stdout",
          "text": [
            "Stopping search: maximum iterations reached --> 100\n",
            "Optimal Path:\n",
            "[[[0.50686144 0.7134811  0.4903842 ]\n",
            "  [0.83137104 0.49539951 0.91294196]\n",
            "  [0.0560529  0.23950466 0.86304325]]\n",
            "\n",
            " [[0.1983311  0.99108652 0.40642848]\n",
            "  [0.29033686 0.13558895 0.1450957 ]\n",
            "  [0.08460199 0.58115647 0.02293404]]\n",
            "\n",
            " [[0.4777408  0.4093589  0.23416357]\n",
            "  [0.40882981 0.21613003 0.28160356]\n",
            "  [0.14536852 0.51416488 0.683921  ]]]\n",
            "Minimum Cost: 150.0\n"
          ]
        }
      ]
    },
    {
      "cell_type": "code",
      "source": [],
      "metadata": {
        "id": "rJjgShDNrb17"
      },
      "execution_count": null,
      "outputs": []
    }
  ],
  "metadata": {
    "colab": {
      "provenance": [],
      "include_colab_link": true
    },
    "kernelspec": {
      "display_name": "Python 3",
      "name": "python3"
    },
    "language_info": {
      "name": "python"
    }
  },
  "nbformat": 4,
  "nbformat_minor": 0
}